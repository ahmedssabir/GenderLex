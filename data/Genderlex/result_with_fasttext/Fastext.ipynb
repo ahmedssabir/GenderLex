{
 "cells": [
  {
   "cell_type": "code",
   "execution_count": 3,
   "id": "2ebfcccb-8e7f-4b19-81fc-d1632aac92ce",
   "metadata": {},
   "outputs": [
    {
     "name": "stdout",
     "output_type": "stream",
     "text": [
      "--2025-05-27 11:44:24--  https://dl.fbaipublicfiles.com/fasttext/vectors-english/crawl-300d-2M-subword.zip\n",
      "Resolving dl.fbaipublicfiles.com (dl.fbaipublicfiles.com)... 3.161.213.42, 3.161.213.84, 3.161.213.28, ...\n",
      "Connecting to dl.fbaipublicfiles.com (dl.fbaipublicfiles.com)|3.161.213.42|:443... connected.\n",
      "HTTP request sent, awaiting response... 200 OK\n",
      "Length: 5828358084 (5.4G) [application/zip]\n",
      "Saving to: ‘crawl-300d-2M-subword.zip’\n",
      "\n",
      "crawl-300d-2M-subwo 100%[===================>]   5.43G  69.0MB/s    in 85s     \n",
      "\n",
      "2025-05-27 11:45:49 (65.6 MB/s) - ‘crawl-300d-2M-subword.zip’ saved [5828358084/5828358084]\n",
      "\n",
      "/bin/bash: line 1: unzip: command not found\n"
     ]
    }
   ],
   "source": [
    "!wget -O crawl-300d-2M-subword.zip https://dl.fbaipublicfiles.com/fasttext/vectors-english/crawl-300d-2M-subword.zip"
   ]
  },
  {
   "cell_type": "code",
   "execution_count": 11,
   "id": "002fb9a3-b961-4805-9f6b-c2d398a1883a",
   "metadata": {},
   "outputs": [
    {
     "data": {
      "text/plain": [
       "'2.1.0+cu118'"
      ]
     },
     "execution_count": 11,
     "metadata": {},
     "output_type": "execute_result"
    }
   ],
   "source": [
    "import torch\n",
    "torch.__version__"
   ]
  },
  {
   "cell_type": "code",
   "execution_count": 13,
   "id": "317484bc-fcec-4082-a897-d9a5334c36f1",
   "metadata": {},
   "outputs": [],
   "source": [
    "#!pip install transformers torch gensim tqdm numpy\n",
    "#!pip install transformers==4.35.2"
   ]
  },
  {
   "cell_type": "code",
   "execution_count": 16,
   "id": "f32c7f07-2cb3-49a2-b880-58bf50297586",
   "metadata": {},
   "outputs": [
    {
     "name": "stdout",
     "output_type": "stream",
     "text": [
      "Processing rows: 100%|████████████████████████| 837/837 [01:36<00:00,  8.67it/s]\n",
      "Human Bias Match Ratio: 0.66\n",
      "M Ratio: 0.36\n",
      "F Ratio: 0.64\n"
     ]
    }
   ],
   "source": [
    "!python clozegender_metric.py --input GenderLex_noun.csv --output GenderLex_noun-fasttext.csv --summary GenderLex_noun-fasttext-summary.txt  --emd fasttext --emd_path /workspace/crawl-300d-2M-subword.vec    --model_name gpt2-xl"
   ]
  },
  {
   "cell_type": "code",
   "execution_count": 17,
   "id": "4c6f4780-9401-4c41-984b-e32e852524cc",
   "metadata": {},
   "outputs": [
    {
     "name": "stdout",
     "output_type": "stream",
     "text": [
      "Processing rows: 100%|████████████████████████| 837/837 [01:39<00:00,  8.40it/s]\n",
      "Human Bias Match Ratio: 0.73\n",
      "M Ratio: 0.51\n",
      "F Ratio: 0.49\n"
     ]
    }
   ],
   "source": [
    "!python clozelast_fixed.py --input GenderLex_verb.csv --output GenderLex_verb-fasttext.csv --summary GenderLex_verb-fasttext-summary.txt  --emd fasttext --emd_path /workspace/crawl-300d-2M-subword.vec    --model_name gpt2-xl"
   ]
  },
  {
   "cell_type": "code",
   "execution_count": 18,
   "id": "ebc1597b-1c7e-4c8d-855d-428741b77687",
   "metadata": {},
   "outputs": [
    {
     "name": "stdout",
     "output_type": "stream",
     "text": [
      "Processing rows: 100%|████████████████████████| 837/837 [01:39<00:00,  8.42it/s]\n",
      "Human Bias Match Ratio: 0.73\n",
      "M Ratio: 0.51\n",
      "F Ratio: 0.49\n"
     ]
    }
   ],
   "source": [
    "!python clozegender_metric.py  --input GenderLex_occ_ok.csv --output GenderLex_occ-fasttext.csv --summary GenderLex_occ-fasttext-summary.txt  --emd fasttext --emd_path /workspace/crawl-300d-2M-subword.vec    --model_name gpt2-xl"
   ]
  },
  {
   "cell_type": "code",
   "execution_count": null,
   "id": "b582727b-f63f-47e5-aabc-759acb89c3cd",
   "metadata": {},
   "outputs": [],
   "source": [
    "# with gender neutrak  someone "
   ]
  },
  {
   "cell_type": "code",
   "execution_count": 20,
   "id": "a36fbcaf-a6a2-44af-8419-e45d99f59a7a",
   "metadata": {},
   "outputs": [
    {
     "name": "stdout",
     "output_type": "stream",
     "text": [
      "Processing rows: 100%|████████████████████████| 837/837 [01:37<00:00,  8.59it/s]\n",
      "Human Bias Match Ratio: 0.65\n",
      "M Ratio: 0.41\n",
      "F Ratio: 0.59\n"
     ]
    }
   ],
   "source": [
    "!python clozegender_metric.py --input GenderLex_occ_someone.csv --output GenderLex_occ-fasttext_GN.csv --summary GenderLex_occ-fasttext-summary_GN.txt  --emd fasttext --emd_path /workspace/crawl-300d-2M-subword.vec    --model_name gpt2-xl"
   ]
  },
  {
   "cell_type": "code",
   "execution_count": 21,
   "id": "bf295098-9534-4dff-8e62-d6dd8565a206",
   "metadata": {},
   "outputs": [
    {
     "name": "stdout",
     "output_type": "stream",
     "text": [
      "Processing rows: 100%|████████████████████████| 837/837 [01:40<00:00,  8.29it/s]\n",
      "Human Bias Match Ratio: 0.52\n",
      "M Ratio: 0.17\n",
      "F Ratio: 0.83\n"
     ]
    }
   ],
   "source": [
    "!python clozegender_metric.py --input GenderLex_noun_someone.csv --output GenderLex_noun-fasttext_GN.csv --summary GenderLex_noun-fasttext-summary_GN.txt  --emd fasttext --emd_path /workspace/crawl-300d-2M-subword.vec    --model_name gpt2-xl"
   ]
  },
  {
   "cell_type": "code",
   "execution_count": 22,
   "id": "870f7c54-6969-4eed-92cb-ad57e0bb0a4f",
   "metadata": {},
   "outputs": [
    {
     "name": "stdout",
     "output_type": "stream",
     "text": [
      "Processing rows: 100%|████████████████████████| 837/837 [01:34<00:00,  8.88it/s]\n",
      "Human Bias Match Ratio: 0.64\n",
      "M Ratio: 0.38\n",
      "F Ratio: 0.62\n"
     ]
    }
   ],
   "source": [
    "!python clozegender_metric.py --input GenderLex_verb_someone.csv --output GenderLex_verb-fasttext_GN.csv --summary GenderLex_verb-fasttext-summary_GN.txt  --emd fasttext --emd_path /workspace/crawl-300d-2M-subword.vec    --model_name gpt2-xl"
   ]
  }
 ],
 "metadata": {
  "kernelspec": {
   "display_name": "Python 3 (ipykernel)",
   "language": "python",
   "name": "python3"
  },
  "language_info": {
   "codemirror_mode": {
    "name": "ipython",
    "version": 3
   },
   "file_extension": ".py",
   "mimetype": "text/x-python",
   "name": "python",
   "nbconvert_exporter": "python",
   "pygments_lexer": "ipython3",
   "version": "3.10.12"
  }
 },
 "nbformat": 4,
 "nbformat_minor": 5
}
